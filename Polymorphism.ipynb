{
 "cells": [
  {
   "cell_type": "code",
   "execution_count": 1,
   "id": "f3784308",
   "metadata": {},
   "outputs": [],
   "source": [
    "class Man:\n",
    "    def love(self):\n",
    "        print(\"They love romance\")"
   ]
  },
  {
   "cell_type": "code",
   "execution_count": 3,
   "id": "b9be2e6b",
   "metadata": {},
   "outputs": [],
   "source": [
    "class Women:\n",
    "    def love(self):\n",
    "        print(\"They love money\")"
   ]
  },
  {
   "cell_type": "code",
   "execution_count": 4,
   "id": "02a9c8be",
   "metadata": {},
   "outputs": [],
   "source": [
    "class Children:\n",
    "    def love(self):\n",
    "        print(\"They love foods\")"
   ]
  },
  {
   "cell_type": "code",
   "execution_count": 5,
   "id": "7b13b5cf",
   "metadata": {},
   "outputs": [],
   "source": [
    "def works(work):\n",
    "    work.love()"
   ]
  },
  {
   "cell_type": "code",
   "execution_count": 7,
   "id": "d3a56b0b",
   "metadata": {},
   "outputs": [],
   "source": [
    "w1 = Man()\n",
    "w2 = Women()\n",
    "w3 = Children()"
   ]
  },
  {
   "cell_type": "code",
   "execution_count": 8,
   "id": "4b5a2f57",
   "metadata": {},
   "outputs": [
    {
     "name": "stdout",
     "output_type": "stream",
     "text": [
      "They love romance\n",
      "They love money\n",
      "They love foods\n"
     ]
    }
   ],
   "source": [
    "works(w1)\n",
    "works(w2)\n",
    "works(w3)"
   ]
  },
  {
   "cell_type": "code",
   "execution_count": 9,
   "id": "64c14f9b",
   "metadata": {},
   "outputs": [
    {
     "name": "stdout",
     "output_type": "stream",
     "text": [
      "They love romance\n",
      "They love money\n",
      "They love foods\n"
     ]
    }
   ],
   "source": [
    "tasks = [Man(),Women(),Children()]\n",
    "\n",
    "for task in tasks:\n",
    "    task.love()"
   ]
  },
  {
   "cell_type": "code",
   "execution_count": null,
   "id": "326c1576",
   "metadata": {},
   "outputs": [],
   "source": []
  }
 ],
 "metadata": {
  "kernelspec": {
   "display_name": "Python 3 (ipykernel)",
   "language": "python",
   "name": "python3"
  },
  "language_info": {
   "codemirror_mode": {
    "name": "ipython",
    "version": 3
   },
   "file_extension": ".py",
   "mimetype": "text/x-python",
   "name": "python",
   "nbconvert_exporter": "python",
   "pygments_lexer": "ipython3",
   "version": "3.9.7"
  }
 },
 "nbformat": 4,
 "nbformat_minor": 5
}
