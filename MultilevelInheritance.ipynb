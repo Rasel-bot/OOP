{
 "cells": [
  {
   "cell_type": "code",
   "execution_count": 2,
   "id": "6b7ac3cc",
   "metadata": {},
   "outputs": [],
   "source": [
    "class Person:\n",
    "    def works(self):\n",
    "        print(\"He is dancing\")"
   ]
  },
  {
   "cell_type": "code",
   "execution_count": 3,
   "id": "aa30f6ac",
   "metadata": {},
   "outputs": [],
   "source": [
    "class Employee(Person):\n",
    "    def jobs(self):\n",
    "        print(\"He is walking\")\n",
    "    "
   ]
  },
  {
   "cell_type": "code",
   "execution_count": 4,
   "id": "d025a7e8",
   "metadata": {},
   "outputs": [],
   "source": [
    "class HR(Employee):\n",
    "    def tasks(self):\n",
    "        print(\"Hire people\")"
   ]
  },
  {
   "cell_type": "code",
   "execution_count": 5,
   "id": "9552f01e",
   "metadata": {},
   "outputs": [
    {
     "name": "stdout",
     "output_type": "stream",
     "text": [
      "He is walking\n",
      "Hire people\n",
      "He is dancing\n"
     ]
    }
   ],
   "source": [
    "p1 = HR()\n",
    "p1.jobs()\n",
    "p1.tasks()\n",
    "p1.works()"
   ]
  },
  {
   "cell_type": "code",
   "execution_count": 7,
   "id": "158341c0",
   "metadata": {},
   "outputs": [
    {
     "name": "stdout",
     "output_type": "stream",
     "text": [
      "He is dancing\n",
      "He is walking\n"
     ]
    },
    {
     "ename": "AttributeError",
     "evalue": "'Employee' object has no attribute 'tasks'",
     "output_type": "error",
     "traceback": [
      "\u001b[0;31m---------------------------------------------------------------------------\u001b[0m",
      "\u001b[0;31mAttributeError\u001b[0m                            Traceback (most recent call last)",
      "Input \u001b[0;32mIn [7]\u001b[0m, in \u001b[0;36m<cell line: 4>\u001b[0;34m()\u001b[0m\n\u001b[1;32m      2\u001b[0m p2\u001b[38;5;241m.\u001b[39mworks()\n\u001b[1;32m      3\u001b[0m p2\u001b[38;5;241m.\u001b[39mjobs()\n\u001b[0;32m----> 4\u001b[0m \u001b[43mp2\u001b[49m\u001b[38;5;241;43m.\u001b[39;49m\u001b[43mtasks\u001b[49m()\n",
      "\u001b[0;31mAttributeError\u001b[0m: 'Employee' object has no attribute 'tasks'"
     ]
    }
   ],
   "source": [
    "p2 = Employee()\n",
    "p2.works()\n",
    "p2.jobs()\n",
    "p2.tasks()"
   ]
  },
  {
   "cell_type": "code",
   "execution_count": null,
   "id": "4bd6c7c8",
   "metadata": {},
   "outputs": [],
   "source": []
  }
 ],
 "metadata": {
  "kernelspec": {
   "display_name": "Python 3 (ipykernel)",
   "language": "python",
   "name": "python3"
  },
  "language_info": {
   "codemirror_mode": {
    "name": "ipython",
    "version": 3
   },
   "file_extension": ".py",
   "mimetype": "text/x-python",
   "name": "python",
   "nbconvert_exporter": "python",
   "pygments_lexer": "ipython3",
   "version": "3.9.7"
  }
 },
 "nbformat": 4,
 "nbformat_minor": 5
}
