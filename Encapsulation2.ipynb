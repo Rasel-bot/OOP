{
 "cells": [
  {
   "cell_type": "code",
   "execution_count": 1,
   "id": "46b7a98a",
   "metadata": {},
   "outputs": [],
   "source": [
    "class Car:\n",
    "    def __init__(self):\n",
    "        self.__updatesoftware()\n",
    "    def drive(self):\n",
    "        print(\"I drive the car\")\n",
    "    def __updatesoftware(self):\n",
    "        print(\"Software is updating\")\n",
    "        "
   ]
  },
  {
   "cell_type": "code",
   "execution_count": 2,
   "id": "6cc4827e",
   "metadata": {},
   "outputs": [
    {
     "name": "stdout",
     "output_type": "stream",
     "text": [
      "Software is updating\n",
      "I drive the car\n"
     ]
    }
   ],
   "source": [
    "Black_car = Car()\n",
    "Black_car.drive()"
   ]
  },
  {
   "cell_type": "code",
   "execution_count": null,
   "id": "00d879e8",
   "metadata": {},
   "outputs": [],
   "source": []
  }
 ],
 "metadata": {
  "kernelspec": {
   "display_name": "Python 3 (ipykernel)",
   "language": "python",
   "name": "python3"
  },
  "language_info": {
   "codemirror_mode": {
    "name": "ipython",
    "version": 3
   },
   "file_extension": ".py",
   "mimetype": "text/x-python",
   "name": "python",
   "nbconvert_exporter": "python",
   "pygments_lexer": "ipython3",
   "version": "3.9.7"
  }
 },
 "nbformat": 4,
 "nbformat_minor": 5
}
