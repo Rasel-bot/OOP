{
 "cells": [
  {
   "cell_type": "code",
   "execution_count": 1,
   "id": "a431d5d1",
   "metadata": {},
   "outputs": [],
   "source": [
    "class LandAnimal:\n",
    "    def show(self):\n",
    "        print(\"Live in land\")"
   ]
  },
  {
   "cell_type": "code",
   "execution_count": 2,
   "id": "58c0f2f5",
   "metadata": {},
   "outputs": [],
   "source": [
    "class WaterAnimal:\n",
    "    def display(self):\n",
    "        print(\"Live in water\")"
   ]
  },
  {
   "cell_type": "code",
   "execution_count": 3,
   "id": "0f4ddb99",
   "metadata": {},
   "outputs": [],
   "source": [
    "class Frog(WaterAnimal, LandAnimal):\n",
    "    pass"
   ]
  },
  {
   "cell_type": "code",
   "execution_count": 4,
   "id": "d5ca34dd",
   "metadata": {},
   "outputs": [
    {
     "name": "stdout",
     "output_type": "stream",
     "text": [
      "Live in water\n",
      "Live in land\n"
     ]
    }
   ],
   "source": [
    "f1 = Frog()\n",
    "f1.display()\n",
    "f1.show()"
   ]
  },
  {
   "cell_type": "code",
   "execution_count": null,
   "id": "590f407e",
   "metadata": {},
   "outputs": [],
   "source": []
  }
 ],
 "metadata": {
  "kernelspec": {
   "display_name": "Python 3 (ipykernel)",
   "language": "python",
   "name": "python3"
  },
  "language_info": {
   "codemirror_mode": {
    "name": "ipython",
    "version": 3
   },
   "file_extension": ".py",
   "mimetype": "text/x-python",
   "name": "python",
   "nbconvert_exporter": "python",
   "pygments_lexer": "ipython3",
   "version": "3.9.7"
  }
 },
 "nbformat": 4,
 "nbformat_minor": 5
}
