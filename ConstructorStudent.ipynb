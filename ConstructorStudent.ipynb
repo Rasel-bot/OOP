{
 "cells": [
  {
   "cell_type": "code",
   "execution_count": 4,
   "id": "9521c9ea",
   "metadata": {},
   "outputs": [],
   "source": [
    "class Student:\n",
    "    clg_name = \"Danghirhat\"\n",
    "    def __init__(self,name,rollno):\n",
    "        self.name = name\n",
    "        self.rollno = rollno\n",
    "        \n",
    "    def display(self):\n",
    "        print(\"Student name:\", self.name)\n",
    "        print(\"Student rollno:\", self.rollno)\n",
    "        print(\"College name:\", self.clg_name)"
   ]
  },
  {
   "cell_type": "code",
   "execution_count": 6,
   "id": "133b7c23",
   "metadata": {},
   "outputs": [],
   "source": [
    "Student_1 = Student(\"Rasel\",\"A231\")\n",
    "Student_2 = Student(\"Jemin\", 421)\n"
   ]
  },
  {
   "cell_type": "code",
   "execution_count": 7,
   "id": "a0bc26fd",
   "metadata": {},
   "outputs": [
    {
     "name": "stdout",
     "output_type": "stream",
     "text": [
      "Student name: Rasel\n",
      "Student rollno: A231\n",
      "College name: Danghirhat\n",
      "None\n",
      "Student name: Jemin\n",
      "Student rollno: 421\n",
      "College name: Danghirhat\n",
      "None\n"
     ]
    }
   ],
   "source": [
    "print(Student_1.display())\n",
    "print(Student_2.display())"
   ]
  },
  {
   "cell_type": "code",
   "execution_count": null,
   "id": "84628249",
   "metadata": {},
   "outputs": [],
   "source": []
  }
 ],
 "metadata": {
  "kernelspec": {
   "display_name": "Python 3 (ipykernel)",
   "language": "python",
   "name": "python3"
  },
  "language_info": {
   "codemirror_mode": {
    "name": "ipython",
    "version": 3
   },
   "file_extension": ".py",
   "mimetype": "text/x-python",
   "name": "python",
   "nbconvert_exporter": "python",
   "pygments_lexer": "ipython3",
   "version": "3.9.7"
  }
 },
 "nbformat": 4,
 "nbformat_minor": 5
}
