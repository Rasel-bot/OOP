{
 "cells": [
  {
   "cell_type": "code",
   "execution_count": 1,
   "id": "fc5da824",
   "metadata": {},
   "outputs": [],
   "source": [
    "class Girls:\n",
    "    def activity(self):\n",
    "        print(\"They are dancing\")"
   ]
  },
  {
   "cell_type": "code",
   "execution_count": 2,
   "id": "60b80015",
   "metadata": {},
   "outputs": [],
   "source": [
    "class Boys(Girls):\n",
    "    def activity(self):\n",
    "        print(\"They are running\")"
   ]
  },
  {
   "cell_type": "code",
   "execution_count": 3,
   "id": "3a950783",
   "metadata": {},
   "outputs": [
    {
     "name": "stdout",
     "output_type": "stream",
     "text": [
      "They are running\n"
     ]
    }
   ],
   "source": [
    "result = Boys()\n",
    "result.activity()"
   ]
  },
  {
   "cell_type": "code",
   "execution_count": null,
   "id": "10bc1035",
   "metadata": {},
   "outputs": [],
   "source": []
  }
 ],
 "metadata": {
  "kernelspec": {
   "display_name": "Python 3 (ipykernel)",
   "language": "python",
   "name": "python3"
  },
  "language_info": {
   "codemirror_mode": {
    "name": "ipython",
    "version": 3
   },
   "file_extension": ".py",
   "mimetype": "text/x-python",
   "name": "python",
   "nbconvert_exporter": "python",
   "pygments_lexer": "ipython3",
   "version": "3.9.7"
  }
 },
 "nbformat": 4,
 "nbformat_minor": 5
}
