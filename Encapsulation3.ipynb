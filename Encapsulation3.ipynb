{
 "cells": [
  {
   "cell_type": "code",
   "execution_count": 8,
   "id": "56553087",
   "metadata": {},
   "outputs": [],
   "source": [
    "class Car:\n",
    "    def __init__(self):\n",
    "        self.__maxspeed = 200\n",
    "        self.__name = \"Ferrari\"\n",
    "        \n",
    "    def drive(self):\n",
    "        print(\"I drive\", self.__name)\n",
    "        print(\"Car speed:\", self.__maxspeed)\n",
    "        \n",
    "    def setspeed(self,speed):\n",
    "        self.__maxspeed = speed\n",
    "        return self.__maxspeed\n",
    "    "
   ]
  },
  {
   "cell_type": "code",
   "execution_count": 9,
   "id": "4c935cb5",
   "metadata": {},
   "outputs": [
    {
     "name": "stdout",
     "output_type": "stream",
     "text": [
      "I drive Ferrari\n",
      "Car speed: 200\n",
      "500\n"
     ]
    }
   ],
   "source": [
    "new_car = Car()\n",
    "new_car.drive()\n",
    "print(new_car.setspeed(500))"
   ]
  },
  {
   "cell_type": "code",
   "execution_count": null,
   "id": "01a97d54",
   "metadata": {},
   "outputs": [],
   "source": []
  }
 ],
 "metadata": {
  "kernelspec": {
   "display_name": "Python 3 (ipykernel)",
   "language": "python",
   "name": "python3"
  },
  "language_info": {
   "codemirror_mode": {
    "name": "ipython",
    "version": 3
   },
   "file_extension": ".py",
   "mimetype": "text/x-python",
   "name": "python",
   "nbconvert_exporter": "python",
   "pygments_lexer": "ipython3",
   "version": "3.9.7"
  }
 },
 "nbformat": 4,
 "nbformat_minor": 5
}
