{
 "cells": [
  {
   "cell_type": "code",
   "execution_count": 1,
   "id": "18a9bf36",
   "metadata": {},
   "outputs": [],
   "source": [
    "class Bank:\n",
    "    def __init__(self):\n",
    "        self.balance = 1000\n",
    "        \n",
    "    def get_balance(self):\n",
    "        return self.balance\n",
    "    \n",
    "    def withdraw(self, amount):\n",
    "        if amount > 1000:\n",
    "            print(\"Error\")\n",
    "        elif amount < 100:\n",
    "            print(\"Amount is low\")\n",
    "        else:\n",
    "            self.balance = self.balance - amount\n",
    "            \n",
    "        return amount"
   ]
  },
  {
   "cell_type": "code",
   "execution_count": 7,
   "id": "efc3727f",
   "metadata": {},
   "outputs": [
    {
     "name": "stdout",
     "output_type": "stream",
     "text": [
      "Error\n"
     ]
    },
    {
     "data": {
      "text/plain": [
       "1000"
      ]
     },
     "execution_count": 7,
     "metadata": {},
     "output_type": "execute_result"
    }
   ],
   "source": [
    "my_bank = Bank()\n",
    "my_bank.withdraw(1001)\n",
    "my_bank.get_balance()"
   ]
  },
  {
   "cell_type": "code",
   "execution_count": null,
   "id": "7e9e8905",
   "metadata": {},
   "outputs": [],
   "source": []
  }
 ],
 "metadata": {
  "kernelspec": {
   "display_name": "Python 3 (ipykernel)",
   "language": "python",
   "name": "python3"
  },
  "language_info": {
   "codemirror_mode": {
    "name": "ipython",
    "version": 3
   },
   "file_extension": ".py",
   "mimetype": "text/x-python",
   "name": "python",
   "nbconvert_exporter": "python",
   "pygments_lexer": "ipython3",
   "version": "3.9.7"
  }
 },
 "nbformat": 4,
 "nbformat_minor": 5
}
