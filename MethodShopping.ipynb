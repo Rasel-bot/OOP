{
 "cells": [
  {
   "cell_type": "code",
   "execution_count": 8,
   "id": "45a750fa",
   "metadata": {},
   "outputs": [],
   "source": [
    "class Shopping:\n",
    "    def __init__(self):\n",
    "        cart = []\n",
    "    def add_to_cart(self,item):\n",
    "        self.cart.append(item)\n",
    "    "
   ]
  },
  {
   "cell_type": "code",
   "execution_count": 9,
   "id": "242212a4",
   "metadata": {},
   "outputs": [
    {
     "ename": "AttributeError",
     "evalue": "'Shopping' object has no attribute 'cart'",
     "output_type": "error",
     "traceback": [
      "\u001b[0;31m---------------------------------------------------------------------------\u001b[0m",
      "\u001b[0;31mAttributeError\u001b[0m                            Traceback (most recent call last)",
      "Input \u001b[0;32mIn [9]\u001b[0m, in \u001b[0;36m<cell line: 2>\u001b[0;34m()\u001b[0m\n\u001b[1;32m      1\u001b[0m customer1\u001b[38;5;241m=\u001b[39m Shopping()\n\u001b[0;32m----> 2\u001b[0m \u001b[43mcustomer1\u001b[49m\u001b[38;5;241;43m.\u001b[39;49m\u001b[43madd_to_cart\u001b[49m\u001b[43m(\u001b[49m\u001b[38;5;124;43m\"\u001b[39;49m\u001b[38;5;124;43mshoes\u001b[39;49m\u001b[38;5;124;43m\"\u001b[39;49m\u001b[43m)\u001b[49m\n\u001b[1;32m      3\u001b[0m \u001b[38;5;28mprint\u001b[39m(customer1\u001b[38;5;241m.\u001b[39mcart)\n",
      "Input \u001b[0;32mIn [8]\u001b[0m, in \u001b[0;36mShopping.add_to_cart\u001b[0;34m(self, item)\u001b[0m\n\u001b[1;32m      4\u001b[0m \u001b[38;5;28;01mdef\u001b[39;00m \u001b[38;5;21madd_to_cart\u001b[39m(\u001b[38;5;28mself\u001b[39m,item):\n\u001b[0;32m----> 5\u001b[0m     \u001b[38;5;28;43mself\u001b[39;49m\u001b[38;5;241;43m.\u001b[39;49m\u001b[43mcart\u001b[49m\u001b[38;5;241m.\u001b[39mappend(item)\n",
      "\u001b[0;31mAttributeError\u001b[0m: 'Shopping' object has no attribute 'cart'"
     ]
    }
   ],
   "source": [
    "customer1= Shopping()\n",
    "customer1.add_to_cart(\"shoes\")\n",
    "print(customer1.cart)\n"
   ]
  },
  {
   "cell_type": "code",
   "execution_count": null,
   "id": "e33b3c6f",
   "metadata": {},
   "outputs": [],
   "source": []
  },
  {
   "cell_type": "code",
   "execution_count": null,
   "id": "2181cf82",
   "metadata": {},
   "outputs": [],
   "source": []
  }
 ],
 "metadata": {
  "kernelspec": {
   "display_name": "Python 3 (ipykernel)",
   "language": "python",
   "name": "python3"
  },
  "language_info": {
   "codemirror_mode": {
    "name": "ipython",
    "version": 3
   },
   "file_extension": ".py",
   "mimetype": "text/x-python",
   "name": "python",
   "nbconvert_exporter": "python",
   "pygments_lexer": "ipython3",
   "version": "3.9.7"
  }
 },
 "nbformat": 4,
 "nbformat_minor": 5
}
