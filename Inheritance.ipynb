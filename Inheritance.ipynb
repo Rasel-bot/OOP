{
 "cells": [
  {
   "cell_type": "code",
   "execution_count": 1,
   "id": "f5abfa68",
   "metadata": {},
   "outputs": [],
   "source": [
    "class SmartDevice:\n",
    "    def __init__(self,brand,price):\n",
    "        self.brand = brand\n",
    "        self.price = price\n",
    "    def functionality(self):\n",
    "        print(\"Awesome design\")\n",
    "        print(\"4G connection\")\n",
    "    "
   ]
  },
  {
   "cell_type": "code",
   "execution_count": 8,
   "id": "157a02e2",
   "metadata": {},
   "outputs": [],
   "source": [
    "class Watch(SmartDevice):\n",
    "    def __init__(self,brand,price,gps):\n",
    "        SmartDevice. __init__(self,brand,price)\n",
    "        self.step_count = 0\n",
    "        self.gps = gps"
   ]
  },
  {
   "cell_type": "code",
   "execution_count": 10,
   "id": "80d85b5b",
   "metadata": {},
   "outputs": [
    {
     "name": "stdout",
     "output_type": "stream",
     "text": [
      "Awesome design\n",
      "4G connection\n",
      "3000\n",
      "0\n"
     ]
    }
   ],
   "source": [
    "my_watch = Watch(\"Apple\",3000,True)\n",
    "my_watch.functionality()\n",
    "print(my_watch.price)\n",
    "print(my_watch.step_count)\n"
   ]
  },
  {
   "cell_type": "code",
   "execution_count": null,
   "id": "92db2b7d",
   "metadata": {},
   "outputs": [],
   "source": []
  }
 ],
 "metadata": {
  "kernelspec": {
   "display_name": "Python 3 (ipykernel)",
   "language": "python",
   "name": "python3"
  },
  "language_info": {
   "codemirror_mode": {
    "name": "ipython",
    "version": 3
   },
   "file_extension": ".py",
   "mimetype": "text/x-python",
   "name": "python",
   "nbconvert_exporter": "python",
   "pygments_lexer": "ipython3",
   "version": "3.9.7"
  }
 },
 "nbformat": 4,
 "nbformat_minor": 5
}
