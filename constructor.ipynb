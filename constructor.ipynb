{
 "cells": [
  {
   "cell_type": "code",
   "execution_count": 4,
   "id": "56c2ca4d",
   "metadata": {},
   "outputs": [],
   "source": [
    "class Dog:\n",
    "    def __init__(self,name):\n",
    "        self.name = name\n",
    "        self.age = 12\n",
    "    def add_year(self,add):\n",
    "        self.increase = self.age + add\n",
    "        return self.increase"
   ]
  },
  {
   "cell_type": "code",
   "execution_count": 5,
   "id": "8f0f7788",
   "metadata": {},
   "outputs": [],
   "source": [
    "my_dog = Dog(\"neri kutta\")\n",
    "new_age = my_dog.add_year(5)\n"
   ]
  },
  {
   "cell_type": "code",
   "execution_count": 6,
   "id": "501c501b",
   "metadata": {},
   "outputs": [
    {
     "name": "stdout",
     "output_type": "stream",
     "text": [
      "neri kutta\n",
      "12\n",
      "17\n"
     ]
    }
   ],
   "source": [
    "print(my_dog.name)\n",
    "print(my_dog.age)\n",
    "print(new_age)"
   ]
  },
  {
   "cell_type": "code",
   "execution_count": null,
   "id": "dffe2010",
   "metadata": {},
   "outputs": [],
   "source": []
  }
 ],
 "metadata": {
  "kernelspec": {
   "display_name": "Python 3 (ipykernel)",
   "language": "python",
   "name": "python3"
  },
  "language_info": {
   "codemirror_mode": {
    "name": "ipython",
    "version": 3
   },
   "file_extension": ".py",
   "mimetype": "text/x-python",
   "name": "python",
   "nbconvert_exporter": "python",
   "pygments_lexer": "ipython3",
   "version": "3.9.7"
  }
 },
 "nbformat": 4,
 "nbformat_minor": 5
}
